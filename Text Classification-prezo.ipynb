{
 "metadata": {
  "celltoolbar": "Slideshow",
  "name": "",
  "signature": "sha256:4e615f69521d1c7447158f9c3bcb7e9b23d635a0ab252dd7242206800ec209f5"
 },
 "nbformat": 3,
 "nbformat_minor": 0,
 "worksheets": [
  {
   "cells": [
    {
     "cell_type": "markdown",
     "metadata": {
      "slideshow": {
       "slide_type": "slide"
      }
     },
     "source": [
      "# Text Mining: A Case Study"
     ]
    },
    {
     "cell_type": "markdown",
     "metadata": {
      "slideshow": {
       "slide_type": "slide"
      }
     },
     "source": [
      "#Outline\n",
      "\n",
      "* Text Classification Examples"
     ]
    },
    {
     "cell_type": "markdown",
     "metadata": {
      "slideshow": {
       "slide_type": "fragment"
      }
     },
     "source": [
      "* Machine Learning/Classification Pipeline"
     ]
    },
    {
     "cell_type": "markdown",
     "metadata": {
      "slideshow": {
       "slide_type": "fragment"
      }
     },
     "source": [
      "* Plain Vanilla approach: TF-IDF weighting + Support Vector Machine (SVM) "
     ]
    },
    {
     "cell_type": "markdown",
     "metadata": {
      "slideshow": {
       "slide_type": "fragment"
      }
     },
     "source": [
      "* Demo: banner classification"
     ]
    },
    {
     "cell_type": "markdown",
     "metadata": {
      "slideshow": {
       "slide_type": "subslide"
      }
     },
     "source": [
      "# Text Classification Examples\n",
      "\n",
      "## Banner Classification based on the raw text from a receipt\n",
      "<img src=\"img/walgreens_receipt.png\">\n"
     ]
    },
    {
     "cell_type": "markdown",
     "metadata": {
      "slideshow": {
       "slide_type": "subslide"
      }
     },
     "source": [
      "#Text Classification Examples\n",
      "\n",
      "##Categorization based on item description \n",
      "<img src=\"img/ketchup.png\">"
     ]
    },
    {
     "cell_type": "markdown",
     "metadata": {
      "slideshow": {
       "slide_type": "slide"
      }
     },
     "source": [
      "### Machine Learning/Classification Pipeline\n",
      "<img src=\"img/ml_pipeline.png\">"
     ]
    },
    {
     "cell_type": "markdown",
     "metadata": {
      "slideshow": {
       "slide_type": "fragment"
      }
     },
     "source": [
      "<img src=\"img/banner_pipeline.png\">\n",
      "<h3> Banner Classification Pipeline </h3>"
     ]
    },
    {
     "cell_type": "markdown",
     "metadata": {
      "slideshow": {
       "slide_type": "slide"
      }
     },
     "source": [
      "#Term Frequency\n",
      "\n",
      "> The number of times that a given word(s) occur(s) on the receipts of the given banner (document).\n",
      "\n",
      "### Term Frequency Matrix (10000 receipts)\n",
      "<table style=\"width:650px\">\n",
      "<tr>\n",
      "<th>**word**</th>\n",
      "<th>**Walmart(2240)**</th> \n",
      "<th>**non-Walmart (7760)**</th>\n",
      "</tr>\n",
      "\n",
      "<tr>\n",
      "<td>*live*</td>\n",
      "<td>$$1934$$</td> \n",
      "<td>$$204$$</td>\n",
      "</tr>\n",
      "\n",
      "<tr>\n",
      "<td>*money*</td>\n",
      "<td>$$1871$$</td> \n",
      "<td>$$88$$</td>\n",
      "</tr>\n",
      "\n",
      "<tr>\n",
      "<td>*walmart*</td>\n",
      "<td>$$1632$$</td> \n",
      "<td>$$29$$</td>\n",
      "</tr>\n",
      "\n",
      "<tr>\n",
      "<td>*manager*</td>\n",
      "<td>$$1529$$</td> \n",
      "<td>$$24$$</td>\n",
      "</tr>\n",
      "</table>\n",
      "\n",
      "* binary case 'live live' is only 1."
     ]
    },
    {
     "cell_type": "markdown",
     "metadata": {
      "slideshow": {
       "slide_type": "subslide"
      }
     },
     "source": [
      "# Inverse Document Frequency\n",
      "\n",
      "> Measure of how much information the word provides, that is, whether the term is common or rare across all receipts (documents).\n",
      "\n",
      "Number of receipts containing the given words (Document Frequency)\n",
      "\n",
      "<table style=\"width:650px\">\n",
      "<tr>\n",
      "<th>**word**</th>\n",
      "<th>**Walmart(2240)**</th> \n",
      "<th>**non-Walmart (7760)**</th>\n",
      "</tr>\n",
      "\n",
      "<tr>\n",
      "<td>*live*</td>\n",
      "<td>$$\\log\\frac{10000}{1934}$$</td> \n",
      "<td>$$\\log\\frac{10000}{204}$$</td>\n",
      "</tr>\n",
      "\n",
      "<tr>\n",
      "<td>*money*</td>\n",
      "<td>$$\\log\\frac{10000}{1871}$$</td> \n",
      "<td>$$\\log\\frac{10000}{88}$$</td>\n",
      "</tr>\n",
      "\n",
      "<tr>\n",
      "<td>*walmart*</td>\n",
      "<td>$$\\log \\frac{10000}{1632}$$</td> \n",
      "<td>$$\\log \\frac{10000}{29}$$</td>\n",
      "</tr>\n",
      "\n",
      "<tr>\n",
      "<td>*manager*</td>\n",
      "<td>$$\\log \\frac{10000}{1529}$$</td> \n",
      "<td>$$\\log \\frac{10000}{24}$$</td>\n",
      "</tr>\n",
      "</table>"
     ]
    },
    {
     "cell_type": "markdown",
     "metadata": {
      "slideshow": {
       "slide_type": "slide"
      }
     },
     "source": [
      "# TF-IDF + SVM\n",
      "\n",
      "* multiply TF with IDF = TF-IDF matrix\n",
      "\n",
      "\n",
      "* use the TF-IDF matrix to get the features\n",
      "\n",
      "\n",
      "* pump the features into SVM\n",
      "\n",
      "\n"
     ]
    },
    {
     "cell_type": "markdown",
     "metadata": {
      "slideshow": {
       "slide_type": "subslide"
      }
     },
     "source": [
      "<img src=\"img/svm.png\">"
     ]
    },
    {
     "cell_type": "markdown",
     "metadata": {
      "slideshow": {
       "slide_type": "slide"
      }
     },
     "source": [
      "#Tools\n",
      "<img src=\"img/ipy_logo.png\">\n",
      "<img src=\"img/pandas_logo.png\">\n",
      "<img src=\"img/scikit-learn-logo.png\">"
     ]
    },
    {
     "cell_type": "code",
     "collapsed": false,
     "input": [
      "import pandas as pd\n",
      "\n",
      "fn = 'c:/work/fun/ds-meetup/data.csv'\n",
      "data = pd.read_csv(fn)\n",
      "data[3:10]"
     ],
     "language": "python",
     "metadata": {
      "slideshow": {
       "slide_type": "subslide"
      }
     },
     "outputs": [
      {
       "html": [
        "<div style=\"max-height:1000px;max-width:1500px;overflow:auto;\">\n",
        "<table border=\"1\" class=\"dataframe\">\n",
        "  <thead>\n",
        "    <tr style=\"text-align: right;\">\n",
        "      <th></th>\n",
        "      <th>banner_key</th>\n",
        "      <th>text</th>\n",
        "    </tr>\n",
        "  </thead>\n",
        "  <tbody>\n",
        "    <tr>\n",
        "      <th>3</th>\n",
        "      <td>         whole_foods</td>\n",
        "      <td> WFZLE FOODS Invest in a future without poverty...</td>\n",
        "    </tr>\n",
        "    <tr>\n",
        "      <th>4</th>\n",
        "      <td> dillons_marketplace</td>\n",
        "      <td> dlito 11.4#;1111,770dIons.;_um Great food. Low...</td>\n",
        "    </tr>\n",
        "    <tr>\n",
        "      <th>5</th>\n",
        "      <td>           sams_club</td>\n",
        "      <td> LLUR MANAGER J CUNNINGHAM (907) 522 - 2333 ANC...</td>\n",
        "    </tr>\n",
        "    <tr>\n",
        "      <th>6</th>\n",
        "      <td>                 cvs</td>\n",
        "      <td> CVS13114airmacy 10623 618(3(0110N, RIVERVIEW, ...</td>\n",
        "    </tr>\n",
        "    <tr>\n",
        "      <th>7</th>\n",
        "      <td>            rite_aid</td>\n",
        "      <td> 1120 331 1ith us, ifs personal. Stcre #00443 3...</td>\n",
        "    </tr>\n",
        "    <tr>\n",
        "      <th>8</th>\n",
        "      <td>             walmart</td>\n",
        "      <td> Wallmart Save money. Live better. Self Checkou...</td>\n",
        "    </tr>\n",
        "    <tr>\n",
        "      <th>9</th>\n",
        "      <td>             walmart</td>\n",
        "      <td> Walmart Save money. Livn better. 205 1 7si 972...</td>\n",
        "    </tr>\n",
        "  </tbody>\n",
        "</table>\n",
        "</div>"
       ],
       "metadata": {},
       "output_type": "pyout",
       "prompt_number": 1,
       "text": [
        "            banner_key                                               text\n",
        "3          whole_foods  WFZLE FOODS Invest in a future without poverty...\n",
        "4  dillons_marketplace  dlito 11.4#;1111,770dIons.;_um Great food. Low...\n",
        "5            sams_club  LLUR MANAGER J CUNNINGHAM (907) 522 - 2333 ANC...\n",
        "6                  cvs  CVS13114airmacy 10623 618(3(0110N, RIVERVIEW, ...\n",
        "7             rite_aid  1120 331 1ith us, ifs personal. Stcre #00443 3...\n",
        "8              walmart  Wallmart Save money. Live better. Self Checkou...\n",
        "9              walmart  Walmart Save money. Livn better. 205 1 7si 972..."
       ]
      }
     ],
     "prompt_number": 1
    },
    {
     "cell_type": "code",
     "collapsed": false,
     "input": [
      "stat = data[['banner_key']]\n",
      "stat['ratio'] = 0\n",
      "stat = (stat.groupby('banner_key').aggregate(len) / float(stat.shape[0])).sort(['ratio'], ascending=False)\n",
      "stat[:10]"
     ],
     "language": "python",
     "metadata": {
      "slideshow": {
       "slide_type": "subslide"
      }
     },
     "outputs": [
      {
       "html": [
        "<div style=\"max-height:1000px;max-width:1500px;overflow:auto;\">\n",
        "<table border=\"1\" class=\"dataframe\">\n",
        "  <thead>\n",
        "    <tr style=\"text-align: right;\">\n",
        "      <th></th>\n",
        "      <th>ratio</th>\n",
        "    </tr>\n",
        "    <tr>\n",
        "      <th>banner_key</th>\n",
        "      <th></th>\n",
        "    </tr>\n",
        "  </thead>\n",
        "  <tbody>\n",
        "    <tr>\n",
        "      <th>walmart</th>\n",
        "      <td> 0.2240</td>\n",
        "    </tr>\n",
        "    <tr>\n",
        "      <th>target</th>\n",
        "      <td> 0.0913</td>\n",
        "    </tr>\n",
        "    <tr>\n",
        "      <th>walgreens</th>\n",
        "      <td> 0.0460</td>\n",
        "    </tr>\n",
        "    <tr>\n",
        "      <th>publix</th>\n",
        "      <td> 0.0405</td>\n",
        "    </tr>\n",
        "    <tr>\n",
        "      <th>kroger</th>\n",
        "      <td> 0.0399</td>\n",
        "    </tr>\n",
        "    <tr>\n",
        "      <th>cvs</th>\n",
        "      <td> 0.0338</td>\n",
        "    </tr>\n",
        "    <tr>\n",
        "      <th>costco</th>\n",
        "      <td> 0.0273</td>\n",
        "    </tr>\n",
        "    <tr>\n",
        "      <th>dollar_tree</th>\n",
        "      <td> 0.0249</td>\n",
        "    </tr>\n",
        "    <tr>\n",
        "      <th>safeway</th>\n",
        "      <td> 0.0208</td>\n",
        "    </tr>\n",
        "    <tr>\n",
        "      <th>meijer</th>\n",
        "      <td> 0.0189</td>\n",
        "    </tr>\n",
        "  </tbody>\n",
        "</table>\n",
        "</div>"
       ],
       "metadata": {},
       "output_type": "pyout",
       "prompt_number": 2,
       "text": [
        "              ratio\n",
        "banner_key         \n",
        "walmart      0.2240\n",
        "target       0.0913\n",
        "walgreens    0.0460\n",
        "publix       0.0405\n",
        "kroger       0.0399\n",
        "cvs          0.0338\n",
        "costco       0.0273\n",
        "dollar_tree  0.0249\n",
        "safeway      0.0208\n",
        "meijer       0.0189"
       ]
      }
     ],
     "prompt_number": 2
    },
    {
     "cell_type": "code",
     "collapsed": false,
     "input": [
      "#let us focus on only the biggest banner: walmart ==> binary classifier\n",
      "\n",
      "#map ~walmart ==> other\n",
      "data['banner_key'][~data['banner_key'].isin(['walmart'])] = 0\n",
      "data['banner_key'][data['banner_key'].isin(['walmart'])] = 1\n",
      "data[3:10]"
     ],
     "language": "python",
     "metadata": {
      "slideshow": {
       "slide_type": "subslide"
      }
     },
     "outputs": [
      {
       "html": [
        "<div style=\"max-height:1000px;max-width:1500px;overflow:auto;\">\n",
        "<table border=\"1\" class=\"dataframe\">\n",
        "  <thead>\n",
        "    <tr style=\"text-align: right;\">\n",
        "      <th></th>\n",
        "      <th>banner_key</th>\n",
        "      <th>text</th>\n",
        "    </tr>\n",
        "  </thead>\n",
        "  <tbody>\n",
        "    <tr>\n",
        "      <th>3</th>\n",
        "      <td> 0</td>\n",
        "      <td> WFZLE FOODS Invest in a future without poverty...</td>\n",
        "    </tr>\n",
        "    <tr>\n",
        "      <th>4</th>\n",
        "      <td> 0</td>\n",
        "      <td> dlito 11.4#;1111,770dIons.;_um Great food. Low...</td>\n",
        "    </tr>\n",
        "    <tr>\n",
        "      <th>5</th>\n",
        "      <td> 0</td>\n",
        "      <td> LLUR MANAGER J CUNNINGHAM (907) 522 - 2333 ANC...</td>\n",
        "    </tr>\n",
        "    <tr>\n",
        "      <th>6</th>\n",
        "      <td> 0</td>\n",
        "      <td> CVS13114airmacy 10623 618(3(0110N, RIVERVIEW, ...</td>\n",
        "    </tr>\n",
        "    <tr>\n",
        "      <th>7</th>\n",
        "      <td> 0</td>\n",
        "      <td> 1120 331 1ith us, ifs personal. Stcre #00443 3...</td>\n",
        "    </tr>\n",
        "    <tr>\n",
        "      <th>8</th>\n",
        "      <td> 1</td>\n",
        "      <td> Wallmart Save money. Live better. Self Checkou...</td>\n",
        "    </tr>\n",
        "    <tr>\n",
        "      <th>9</th>\n",
        "      <td> 1</td>\n",
        "      <td> Walmart Save money. Livn better. 205 1 7si 972...</td>\n",
        "    </tr>\n",
        "  </tbody>\n",
        "</table>\n",
        "</div>"
       ],
       "metadata": {},
       "output_type": "pyout",
       "prompt_number": 3,
       "text": [
        "  banner_key                                               text\n",
        "3          0  WFZLE FOODS Invest in a future without poverty...\n",
        "4          0  dlito 11.4#;1111,770dIons.;_um Great food. Low...\n",
        "5          0  LLUR MANAGER J CUNNINGHAM (907) 522 - 2333 ANC...\n",
        "6          0  CVS13114airmacy 10623 618(3(0110N, RIVERVIEW, ...\n",
        "7          0  1120 331 1ith us, ifs personal. Stcre #00443 3...\n",
        "8          1  Wallmart Save money. Live better. Self Checkou...\n",
        "9          1  Walmart Save money. Livn better. 205 1 7si 972..."
       ]
      }
     ],
     "prompt_number": 3
    },
    {
     "cell_type": "code",
     "collapsed": false,
     "input": [
      "from sklearn.feature_extraction.text import TfidfVectorizer\n",
      "from sklearn.svm import LinearSVC\n",
      "from sklearn.pipeline import Pipeline\n",
      "from sklearn.grid_search import GridSearchCV"
     ],
     "language": "python",
     "metadata": {
      "slideshow": {
       "slide_type": "subslide"
      }
     },
     "outputs": [],
     "prompt_number": 38
    },
    {
     "cell_type": "code",
     "collapsed": false,
     "input": [
      "\"\"\" Get train data; X=input & y=target \"\"\"\n",
      "#only 200 samples\n",
      "X_train = data['text'][:200]\n",
      "y_train = data['banner_key'][:200].astype(int)"
     ],
     "language": "python",
     "metadata": {
      "slideshow": {
       "slide_type": "fragment"
      }
     },
     "outputs": [],
     "prompt_number": 29
    },
    {
     "cell_type": "code",
     "collapsed": false,
     "input": [
      "\"\"\" Pipeline: raw text ==> TFIDF ==> Linear SVM ==> banner \"\"\"\n",
      "pl = Pipeline([\n",
      "   ('vectorizer', TfidfVectorizer(sublinear_tf=True,analyzer='word')),\n",
      "   ('classifier', LinearSVC(C=1))\n",
      "   ])"
     ],
     "language": "python",
     "metadata": {
      "slideshow": {
       "slide_type": "fragment"
      }
     },
     "outputs": [],
     "prompt_number": 39
    },
    {
     "cell_type": "code",
     "collapsed": false,
     "input": [
      "\"\"\" Setup the paramaters \"\"\"\n",
      "parameters = {'vectorizer__use_idf':[True,False], \n",
      "              'vectorizer__ngram_range':[(1,3)],  \n",
      "              'vectorizer__binary':[True,False],  \n",
      "              'classifier__dual':[True],          \n",
      "              'classifier__C':[1,10]}             "
     ],
     "language": "python",
     "metadata": {
      "slideshow": {
       "slide_type": "subslide"
      }
     },
     "outputs": [],
     "prompt_number": 40
    },
    {
     "cell_type": "code",
     "collapsed": false,
     "input": [
      "\"\"\" GridSearch w/ cross-validation \"\"\"\n",
      "n_cores = 1\n",
      "grid_search = GridSearchCV(pl, parameters, cv = 5, scoring = 'f1', \n",
      "                           n_jobs = n_cores, verbose=1, refit=True, \n",
      "                           iid=False) \n",
      "grid_search.fit(X_train, y_train)  #Search the best parameter setting"
     ],
     "language": "python",
     "metadata": {
      "slideshow": {
       "slide_type": "fragment"
      }
     },
     "outputs": [
      {
       "output_type": "stream",
       "stream": "stderr",
       "text": [
        "[Parallel(n_jobs=1)]: Done   1 jobs       | elapsed:    0.7s\n",
        "[Parallel(n_jobs=1)]: Done  40 out of  40 | elapsed:   31.6s finished\n"
       ]
      },
      {
       "output_type": "stream",
       "stream": "stdout",
       "text": [
        "Fitting 5 folds for each of 8 candidates, totalling 40 fits\n"
       ]
      },
      {
       "metadata": {},
       "output_type": "pyout",
       "prompt_number": 41,
       "text": [
        "GridSearchCV(cv=5,\n",
        "       estimator=Pipeline(steps=[('vectorizer', TfidfVectorizer(analyzer='word', binary=False, charset=None,\n",
        "        charset_error=None, decode_error=u'strict',\n",
        "        dtype=<type 'numpy.int64'>, encoding=u'utf-8', input=u'content',\n",
        "        lowercase=True, max_df=1.0, max_features=None, min_df=1,\n",
        "        ngram_range=(1, 1),...ling=1, loss='l2', multi_class='ovr', penalty='l2',\n",
        "     random_state=None, tol=0.0001, verbose=0))]),\n",
        "       fit_params={}, iid=False, loss_func=None, n_jobs=1,\n",
        "       param_grid={'vectorizer__use_idf': [True, False], 'vectorizer__ngram_range': [(1, 3)], 'classifier__C': [1, 10], 'vectorizer__binary': [True, False], 'classifier__dual': [True]},\n",
        "       pre_dispatch='2*n_jobs', refit=True, score_func=None, scoring='f1',\n",
        "       verbose=1)"
       ]
      }
     ],
     "prompt_number": 41
    },
    {
     "cell_type": "code",
     "collapsed": false,
     "input": [
      "print 'f1 score : %.2f%%' % (grid_search.best_score_*100)\n",
      "print(\"Best parameter set:\")\n",
      "best_parameters = grid_search.best_estimator_.get_params()\n",
      "for param_name in sorted(parameters.keys()):\n",
      "    print(\"\\t%s: %r\" % (param_name, best_parameters[param_name]))\n",
      "\n",
      "clf_best = grid_search.best_estimator_"
     ],
     "language": "python",
     "metadata": {
      "slideshow": {
       "slide_type": "subslide"
      }
     },
     "outputs": [
      {
       "output_type": "stream",
       "stream": "stdout",
       "text": [
        "f1 score : 97.89%\n",
        "Best parameter set:\n",
        "\tclassifier__C: 1\n",
        "\tclassifier__dual: True\n",
        "\tvectorizer__binary: False\n",
        "\tvectorizer__ngram_range: (1, 3)\n",
        "\tvectorizer__use_idf: False\n"
       ]
      }
     ],
     "prompt_number": 42
    }
   ],
   "metadata": {}
  }
 ]
}